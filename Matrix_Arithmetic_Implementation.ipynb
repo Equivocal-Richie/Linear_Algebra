{
  "nbformat": 4,
  "nbformat_minor": 0,
  "metadata": {
    "colab": {
      "provenance": [],
      "authorship_tag": "ABX9TyMG5yCMR8ilFLk1ugEA5gzr",
      "include_colab_link": true
    },
    "kernelspec": {
      "name": "python3",
      "display_name": "Python 3"
    },
    "language_info": {
      "name": "python"
    }
  },
  "cells": [
    {
      "cell_type": "markdown",
      "metadata": {
        "id": "view-in-github",
        "colab_type": "text"
      },
      "source": [
        "<a href=\"https://colab.research.google.com/github/Equivocal-Richie/Linear_Algebra/blob/main/Matrix_Arithmetic_Implementation.ipynb\" target=\"_parent\"><img src=\"https://colab.research.google.com/assets/colab-badge.svg\" alt=\"Open In Colab\"/></a>"
      ]
    },
    {
      "cell_type": "markdown",
      "source": [
        "# **Scenario: E-commerce Product Recommendations Based on User Ratings**\n",
        "\n",
        "**Problem Overview:**\n",
        "\n",
        "Imagine you work for an e-commerce platform. You have user ratings for various products, stored in a matrix. You want to use matrix arithmetic to generate product recommendations for users based on their existing ratings.\n",
        "\n",
        "**Dataset (Conceptual):**\n",
        "\n",
        "    User Ratings Matrix (R):\n",
        "        1. Rows represent users.\n",
        "        2. Columns represent products.\n",
        "        3. Values represent user ratings (e.g., 1-5 stars, 0 if not rated)."
      ],
      "metadata": {
        "id": "yGRBb8r09YJK"
      }
    },
    {
      "cell_type": "markdown",
      "source": [
        "## **Basic Application: Calculating Average Product Ratings**\n",
        "\n",
        "**Question 1:**\n",
        "\n",
        "Given the user ratings matrix R, calculate the average rating for each product."
      ],
      "metadata": {
        "id": "SMD1aR_f-LOo"
      }
    },
    {
      "cell_type": "code",
      "source": [
        "import numpy as np\n",
        "\n",
        "# Sample user ratings matrix (where Rows=Users and Columns=Products)\n",
        "R = np.array([\n",
        "    [5, 4, 0, 3],  # User 1 ratings\n",
        "    [4, 0, 2, 5],  # User 2 ratings\n",
        "    [0, 3, 5, 1],  # User 3 ratings\n",
        "    [5, 4, 4, 0],  # User 4 ratings\n",
        "    [0, 5, 4, 3]   # User 5 ratings\n",
        "])\n",
        "\n",
        "# Calculate average ratings for each product (column-wise)\n",
        "average_ratings = np.mean(R, axis=0)\n",
        "# axis = 0 specifies that the mean should be calculated along the columns (products).\n",
        "\n",
        "# Print average ratings for each product individually\n",
        "num_products = R.shape[1]  # Get the number of products (columns)\n",
        "\n",
        "for i in range(num_products):\n",
        "    print(f\"Average rating for Product {i + 1}: {average_ratings[i]}\")"
      ],
      "metadata": {
        "colab": {
          "base_uri": "https://localhost:8080/"
        },
        "id": "BZfA6H-M-ECg",
        "outputId": "17be0da3-ee57-4bd3-9feb-9aae61daf8fe"
      },
      "execution_count": 2,
      "outputs": [
        {
          "output_type": "stream",
          "name": "stdout",
          "text": [
            "Average rating for Product 1: 2.8\n",
            "Average rating for Product 2: 3.2\n",
            "Average rating for Product 3: 3.0\n",
            "Average rating for Product 4: 2.4\n"
          ]
        }
      ]
    },
    {
      "cell_type": "markdown",
      "source": [
        "## **Intermediate Application: User Similarity Based on Ratings**\n",
        "\n",
        "**Question 2:**\n",
        "\n",
        "Calculate the similarity between users based on their ratings using dot products."
      ],
      "metadata": {
        "id": "hWJw11EzGYbA"
      }
    },
    {
      "cell_type": "code",
      "source": [
        "from sklearn.preprocessing import normalize\n",
        "\n",
        "# User Ratings Matrix - same as before\n",
        "R = np.array([\n",
        "    [5, 4, 0, 3],  # User 1 ratings\n",
        "    [4, 0, 2, 5],  # User 2 ratings\n",
        "    [0, 3, 5, 1],  # User 3 ratings\n",
        "    [5, 4, 4, 0],  # User 4 ratings\n",
        "    [0, 5, 4, 3]   # User 5 ratings\n",
        "])\n",
        "\n",
        "# Calculate user similarity matrix (dot product of user rating vectors)\n",
        "# np.dot performs matrix multiplication, which in this case represents the dot product of user rating vectors.\n",
        "user_similarity = np.dot(R, R.T)  # R.T is the transpose of R (swapping rows and columns)\n",
        "\"\"\"\n",
        "Why Transpose?\n",
        "It allows us to compare users to users instead of users to products when calculating the dot product.\n",
        "\n",
        "What happens when you transpose?\n",
        "It swaps rows to columns and vice versa, effectively flipping the matrix along its diagonal.\n",
        "\"\"\"\n",
        "normalized_similarity = normalize(user_similarity, axis=1, norm='l2') # normalize the results in the range of 0 - 1\n",
        "\n",
        "k = 3  # Number of top similar users to display\n",
        "\n",
        "for i in range(normalized_similarity.shape[0]):\n",
        "    top_indices = np.argsort(normalized_similarity[i])[-k:]  # Get indices of top k similar users\n",
        "    top_users = top_indices + 1  # Adjust indices to user IDs (starting from 1)\n",
        "    print(f\"Top {k} similar users for User {i + 1}: {top_users}\")"
      ],
      "metadata": {
        "colab": {
          "base_uri": "https://localhost:8080/"
        },
        "id": "Oku3Ma_CGm0s",
        "outputId": "22423314-539d-45c4-dfaa-5a29f25aa778"
      },
      "execution_count": 13,
      "outputs": [
        {
          "output_type": "stream",
          "name": "stdout",
          "text": [
            "Top 3 similar users for User 1: [2 4 1]\n",
            "Top 3 similar users for User 2: [4 1 2]\n",
            "Top 3 similar users for User 3: [4 3 5]\n",
            "Top 3 similar users for User 4: [5 1 4]\n",
            "Top 3 similar users for User 5: [4 3 5]\n"
          ]
        }
      ]
    },
    {
      "cell_type": "markdown",
      "source": [
        "Heatmap visualization of the similarities between the users for a more intuitive understanding."
      ],
      "metadata": {
        "id": "yb6ItjJ-KnSY"
      }
    },
    {
      "cell_type": "code",
      "source": [
        "import seaborn as sns\n",
        "import matplotlib.pyplot as plt\n",
        "\n",
        "plt.figure(figsize=(8, 6))\n",
        "user_labels = ['User 1', 'User 2', 'User 3', 'User 4', 'User 5']\n",
        "sns.heatmap(normalized_similarity, xticklabels=user_labels, yticklabels=user_labels, annot=True, cmap=\"YlGnBu\", fmt=\".2f\", annot_kws={\"size\": 8, \"color\": \"black\"})\n",
        "plt.title(\"User Similarity Heatmap\")\n",
        "plt.show()"
      ],
      "metadata": {
        "colab": {
          "base_uri": "https://localhost:8080/",
          "height": 545
        },
        "id": "J2rypXlWK5xg",
        "outputId": "a0697e3c-bb15-4392-fcd6-d67433c56c60"
      },
      "execution_count": 15,
      "outputs": [
        {
          "output_type": "display_data",
          "data": {
            "text/plain": [
              "<Figure size 800x600 with 2 Axes>"
            ],
            "image/png": "[encoded data removed]"
          },
          "metadata": {}
        }
      ]
    },
    {
      "cell_type": "markdown",
      "source": [
        "## **Advanced Application: Product Recommendations Using Matrix Multiplication**\n",
        "\n",
        "**Question 3:**\n",
        "\n",
        "Using the user ratings matrix **R** and the average product ratings, generate a recommendation score for each user for each product."
      ],
      "metadata": {
        "id": "9nD47D9OBh5K"
      }
    },
    {
      "cell_type": "code",
      "source": [
        "# User Ratings Matrix - same as before\n",
        "R = np.array([\n",
        "    [5, 4, 0, 3],  # User 1 ratings\n",
        "    [4, 0, 2, 5],  # User 2 ratings\n",
        "    [0, 3, 5, 1],  # User 3 ratings\n",
        "    [5, 4, 4, 0],  # User 4 ratings\n",
        "    [0, 5, 4, 3]   # User 5 ratings\n",
        "])\n",
        "\n",
        "# Calculate average product ratings\n",
        "average_ratings = np.mean(R, axis=0)\n",
        "\n",
        "# Create a matrix of average ratings, where each row is the average ratings vector.\n",
        "average_ratings_matrix = np.tile(average_ratings, (R.shape[0], 1))\n",
        "\"\"\"\n",
        "# np.tile repeats average_ratings to create a matrix with the same number of rows as R.\n",
        "\"\"\"\n",
        "#Calculate the recommendation score.\n",
        "recommendation_score = R * (average_ratings_matrix / np.max(average_ratings_matrix))\n",
        "\"\"\"\n",
        "Explanation:\n",
        "Dividing by np.max normalizes the average rating scores.\n",
        "Multiplying R by the normalized average ratings provides a recommendation score.\n",
        "\"\"\"\n",
        "\n",
        "print(\"Recommendation Score Matrix:\", recommendation_score) # The recommendation score reflects both user ratings and overall product popularity."
      ],
      "metadata": {
        "colab": {
          "base_uri": "https://localhost:8080/"
        },
        "id": "qNe3fsLlQzEP",
        "outputId": "2d75162a-3b48-460a-ecdd-67c54703d040"
      },
      "execution_count": 3,
      "outputs": [
        {
          "output_type": "stream",
          "name": "stdout",
          "text": [
            "Recommendation Score Matrix: [[4.375  4.     0.     2.25  ]\n",
            " [3.5    0.     1.875  3.75  ]\n",
            " [0.     3.     4.6875 0.75  ]\n",
            " [4.375  4.     3.75   0.    ]\n",
            " [0.     5.     3.75   2.25  ]]\n"
          ]
        }
      ]
    },
    {
      "cell_type": "markdown",
      "source": [
        "**Interpreting the results**"
      ],
      "metadata": {
        "id": "XnkTpkawHqOe"
      }
    },
    {
      "cell_type": "code",
      "source": [
        "import numpy as np\n",
        "\n",
        "def group_users_by_product(recommendation_score, threshold=3):\n",
        "    \"\"\"\n",
        "    Groups users by the products they are likely to be recommended.\n",
        "\n",
        "    Args:\n",
        "        recommendation_score (np.ndarray): The recommendation score matrix.\n",
        "        threshold (float): The minimum recommendation score for a product to be\n",
        "                           considered recommended to a user.\n",
        "\n",
        "    Returns:\n",
        "        dict: A dictionary where keys are product IDs and values are lists of\n",
        "              user IDs who are likely to be recommended that product.\n",
        "    \"\"\"\n",
        "\n",
        "    product_user_groups = {}  # Initialize an empty dictionary\n",
        "    num_users, num_products = recommendation_score.shape\n",
        "\n",
        "    for product_id in range(num_products):  # Iterate through products\n",
        "        recommended_users = []\n",
        "        for user_id in range(num_users):  # Iterate through users\n",
        "            # If recommendation score is above the threshold\n",
        "            if recommendation_score[user_id, product_id] >= threshold:\n",
        "                recommended_users.append(user_id + 1)  # Add user to the list\n",
        "\n",
        "        product_user_groups[product_id + 1] = recommended_users  # Assign list to product\n",
        "\n",
        "    return product_user_groups\n",
        "\n",
        "# Usage with the recommendation_score matrix from previous code:\n",
        "product_user_groups = group_users_by_product(recommendation_score)\n",
        "\n",
        "# Print the results:\n",
        "for product_id, users in product_user_groups.items():\n",
        "    print(f\"Product {product_id}: Recommended for users {users}\")"
      ],
      "metadata": {
        "colab": {
          "base_uri": "https://localhost:8080/"
        },
        "id": "HuEJu2c9En-S",
        "outputId": "aa7438ac-7215-4155-cf50-8b12e57eba9b"
      },
      "execution_count": 5,
      "outputs": [
        {
          "output_type": "stream",
          "name": "stdout",
          "text": [
            "Product 1: Recommended for users [1, 2, 4]\n",
            "Product 2: Recommended for users [1, 3, 4, 5]\n",
            "Product 3: Recommended for users [3, 4, 5]\n",
            "Product 4: Recommended for users [2]\n"
          ]
        }
      ]
    },
    {
      "cell_type": "code",
      "source": [],
      "metadata": {
        "id": "4bzGNwy6HZWo"
      },
      "execution_count": null,
      "outputs": []
    }
  ]
}