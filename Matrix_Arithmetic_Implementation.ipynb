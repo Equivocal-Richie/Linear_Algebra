{
  "nbformat": 4,
  "nbformat_minor": 0,
  "metadata": {
    "colab": {
      "provenance": [],
      "authorship_tag": "ABX9TyMG+P2aOOhwutucvwuE4bbc",
      "include_colab_link": true
    },
    "kernelspec": {
      "name": "python3",
      "display_name": "Python 3"
    },
    "language_info": {
      "name": "python"
    }
  },
  "cells": [
    {
      "cell_type": "markdown",
      "metadata": {
        "id": "view-in-github",
        "colab_type": "text"
      },
      "source": [
        "<a href=\"https://colab.research.google.com/github/Equivocal-Richie/Linear_Algebra/blob/main/Matrix_Arithmetic_Implementation.ipynb\" target=\"_parent\"><img src=\"https://colab.research.google.com/assets/colab-badge.svg\" alt=\"Open In Colab\"/></a>"
      ]
    },
    {
      "cell_type": "markdown",
      "source": [
        "# **Scenario: E-commerce Product Recommendations Based on User Ratings**\n",
        "\n",
        "**Problem Overview:**\n",
        "\n",
        "Imagine you work for an e-commerce platform. You have user ratings for various products, stored in a matrix. You want to use matrix arithmetic to generate product recommendations for users based on their existing ratings.\n",
        "\n",
        "**Dataset (Conceptual):**\n",
        "\n",
        "    User Ratings Matrix (R):\n",
        "        1. Rows represent users.\n",
        "        2. Columns represent products.\n",
        "        3. Values represent user ratings (e.g., 1-5 stars, 0 if not rated)."
      ],
      "metadata": {
        "id": "yGRBb8r09YJK"
      }
    },
    {
      "cell_type": "markdown",
      "source": [
        "## **Basic Application: Calculating Average Product Ratings**\n",
        "\n",
        "**Question 1:**\n",
        "\n",
        "Given the user ratings matrix R, calculate the average rating for each product."
      ],
      "metadata": {
        "id": "SMD1aR_f-LOo"
      }
    },
    {
      "cell_type": "code",
      "source": [
        "import numpy as np\n",
        "\n",
        "# Sample user ratings matrix (where Rows=Users and Columns=Products)\n",
        "R = np.array([\n",
        "    [5, 4, 0, 3],  # User 1 ratings\n",
        "    [4, 0, 2, 5],  # User 2 ratings\n",
        "    [0, 3, 5, 1],  # User 3 ratings\n",
        "    [5, 4, 4, 0],  # User 4 ratings\n",
        "    [0, 5, 4, 3]   # User 5 ratings\n",
        "])\n",
        "\n",
        "# Calculate average ratings for each product (column-wise)\n",
        "average_ratings = np.mean(R, axis=0)\n",
        "# axis = 0 specifies that the mean should be calculated along the columns (products).\n",
        "\n",
        "# Print average ratings for each product individually\n",
        "num_products = R.shape[1]  # Get the number of products (columns)\n",
        "\n",
        "for i in range(num_products):\n",
        "    print(f\"Average rating for Product {i + 1}: {average_ratings[i]}\")"
      ],
      "metadata": {
        "colab": {
          "base_uri": "https://localhost:8080/"
        },
        "id": "BZfA6H-M-ECg",
        "outputId": "b73439db-3219-486d-f45e-1569012343af"
      },
      "execution_count": 2,
      "outputs": [
        {
          "output_type": "stream",
          "name": "stdout",
          "text": [
            "Average rating for Product 1: 2.8\n",
            "Average rating for Product 2: 3.2\n",
            "Average rating for Product 3: 3.0\n",
            "Average rating for Product 4: 2.4\n"
          ]
        }
      ]
    }
  ]
}